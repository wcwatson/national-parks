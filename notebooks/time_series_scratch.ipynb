{
 "cells": [
  {
   "cell_type": "markdown",
   "metadata": {
    "pycharm": {
     "name": "#%% md\n"
    }
   },
   "source": [
    "# Scratch Work for Time Series Modeling"
   ]
  },
  {
   "cell_type": "code",
   "execution_count": null,
   "metadata": {
    "pycharm": {
     "name": "#%%\n"
    }
   },
   "outputs": [],
   "source": [
    "import os\n",
    "import warnings\n",
    "\n",
    "import numpy as np\n",
    "import pandas as pd\n",
    "from pmdarima.arima import AutoARIMA\n",
    "from sklearn.metrics import mean_absolute_error, mean_absolute_percentage_error\n",
    "import statsmodels.api as sm\n",
    "\n",
    "from matplotlib.gridspec import GridSpec\n",
    "import matplotlib.pyplot as plt\n",
    "import plotnine as p9\n",
    "import seaborn as sns\n",
    "\n",
    "warnings.filterwarnings('ignore')"
   ]
  },
  {
   "cell_type": "markdown",
   "metadata": {
    "pycharm": {
     "name": "#%% md\n"
    }
   },
   "source": [
    "## Retrieve and Inspect Capta"
   ]
  },
  {
   "cell_type": "code",
   "execution_count": null,
   "metadata": {
    "pycharm": {
     "name": "#%%\n"
    }
   },
   "outputs": [],
   "source": [
    "os.getcwd()"
   ]
  },
  {
   "cell_type": "code",
   "execution_count": null,
   "metadata": {
    "pycharm": {
     "name": "#%%\n"
    }
   },
   "outputs": [],
   "source": [
    "ts_df = pd.read_csv('../capta/processed/monthly_visitors_by_park.csv')\n",
    "ts_df.head()"
   ]
  },
  {
   "cell_type": "code",
   "execution_count": null,
   "metadata": {
    "pycharm": {
     "name": "#%%\n"
    }
   },
   "outputs": [],
   "source": [
    "ts_df.dt_pk = pd.to_datetime(ts_df.dt_pk)\n",
    "ts_df = ts_df.set_index('dt_pk').asfreq('M', method='ffill')\n",
    "ts_df.head()"
   ]
  },
  {
   "cell_type": "markdown",
   "metadata": {
    "pycharm": {
     "name": "#%% md\n"
    }
   },
   "source": [
    "## Simple Time Series Plots\n",
    "- BIBE\n",
    "- Faceted plots of all parks"
   ]
  },
  {
   "cell_type": "code",
   "execution_count": null,
   "metadata": {
    "pycharm": {
     "name": "#%%\n"
    }
   },
   "outputs": [],
   "source": [
    "bibe_plot = (\n",
    "    p9.ggplot(data=pd.DataFrame(ts_df['BIBE']), mapping=p9.aes(x='ts_df.index', y='BIBE'))\n",
    "    + p9.geom_line()\n",
    "    + p9.labs(\n",
    "        x='Time',\n",
    "        y='Monthly Visitors',\n",
    "        title='Big Bend National Park'\n",
    "    )\n",
    "    + p9.theme_538()\n",
    "    + p9.theme(axis_text_x=p9.element_text(rotation=90))\n",
    ")\n",
    "bibe_plot.draw();"
   ]
  },
  {
   "cell_type": "code",
   "execution_count": null,
   "metadata": {
    "pycharm": {
     "name": "#%%\n"
    }
   },
   "outputs": [],
   "source": [
    "ts_df_r = ts_df.resample('Y').mean()\n",
    "bibe_ann_plot = (\n",
    "    p9.ggplot(data=pd.DataFrame(ts_df_r['BIBE']), mapping=p9.aes(x='ts_df_r.index', y='BIBE'))\n",
    "    + p9.geom_line()\n",
    "    + p9.labs(\n",
    "        x='Time',\n",
    "        y='Annual Avg. Monthly Visitors',\n",
    "        title='Big Bend National Park'\n",
    "    )\n",
    "    + p9.theme_538()\n",
    "    + p9.theme(axis_text_x=p9.element_text(rotation=90))\n",
    ")\n",
    "bibe_ann_plot.draw();"
   ]
  },
  {
   "cell_type": "code",
   "execution_count": null,
   "metadata": {
    "pycharm": {
     "name": "#%%\n"
    }
   },
   "outputs": [],
   "source": [
    "bibe_plot = (\n",
    "    p9.ggplot(data=pd.DataFrame(ts_df['BIBE']), mapping=p9.aes(x='ts_df.index', y='BIBE'))\n",
    "    + p9.geom_line(color='#a6cee3')\n",
    "    + p9.geom_line(data=pd.DataFrame(ts_df['BIBE']).resample('Y').mean(), mapping=p9.aes(x='ts_df.resample(\"Y\").mean().index'), color='#1f78b4')\n",
    "    + p9.labs(\n",
    "        x='Time',\n",
    "        y='Monthly Visitors',\n",
    "        title='Big Bend National Park'\n",
    "    )\n",
    "    + p9.theme_538()\n",
    "    + p9.theme(axis_text_x=p9.element_text(rotation=90))\n",
    ")\n",
    "bibe_plot.draw();"
   ]
  },
  {
   "cell_type": "code",
   "execution_count": null,
   "metadata": {
    "pycharm": {
     "name": "#%%\n"
    }
   },
   "outputs": [],
   "source": [
    "melt_df = ts_df_r.reset_index().melt(id_vars='dt_pk', var_name='park', value_name='visitors').reset_index()\n",
    "facet_plot = (\n",
    "    p9.ggplot(data=melt_df, mapping=p9.aes(x='dt_pk', y='visitors'))\n",
    "    + p9.geom_line()\n",
    "    + p9.facet_wrap('park', scales='free_y')\n",
    "    + p9.labs(\n",
    "        x='Time',\n",
    "        y='Annual Avg. Monthly Visitors',\n",
    "        title='All National Parks Beginning with \"B\"'\n",
    "    )\n",
    "    + p9.theme_538()\n",
    "    + p9.theme(figure_size=(8, 8), axis_text_x=p9.element_text(rotation=90), subplots_adjust={'wspace': 0.5})\n",
    ")\n",
    "facet_plot.draw();"
   ]
  },
  {
   "cell_type": "markdown",
   "metadata": {
    "pycharm": {
     "name": "#%% md\n"
    }
   },
   "source": [
    "## Modeling with AutoARIMA"
   ]
  },
  {
   "cell_type": "code",
   "execution_count": null,
   "metadata": {
    "pycharm": {
     "name": "#%%\n"
    }
   },
   "outputs": [],
   "source": [
    "def ordinal(n):\n",
    "    suffixes = {1: 'st', 2: 'nd', 3: 'rd'}\n",
    "    return str(n) + suffixes.get(4 if 11 <= n % 100 < 14 else n % 10, 'th')"
   ]
  },
  {
   "cell_type": "code",
   "execution_count": null,
   "metadata": {
    "pycharm": {
     "name": "#%%\n"
    }
   },
   "outputs": [],
   "source": [
    "def plot_ts(ts, lags=None, df_p_value=None, figsize=(12, 8)):\n",
    "    \"\"\"Produce a collection of artifacts for evaluating a time series.\n",
    "    Adapted from https://towardsdatascience.com/multi-step-time-series-forecasting-with-arima-lightgbm-and-prophet-cc9e3f95dfb0#:~:text=ARIMA%20is%20one%20of%20the,p%2C%20d%2C%20and%20q.\n",
    "\n",
    "    Args:\n",
    "        ts (pd.Series): a time series\n",
    "        lags (int): a number of lags to be passed to the ACF and PACF plots, instead\n",
    "            of having this inferred automatically\n",
    "        diffs (int): the number of times that differencing was applied before the DF test was significant\n",
    "        df_p_value (float): the pre-computed result of a Dickey-Fuller test, if None then this will be calculated\n",
    "        figsize (tuple): the figure size\n",
    "\n",
    "    Returns:\n",
    "        None\n",
    "    \"\"\"\n",
    "\n",
    "    # Coerce input to series if not already\n",
    "    if not isinstance(ts, pd.Series):\n",
    "        ts = pd.Series(ts)\n",
    "\n",
    "    # Create subpanels for subplots by creating a gridspec on top of an empty plotnine\n",
    "    # figure (junk data is needed for backend \"copy\" reasons)\n",
    "    fig = (p9.ggplot() + p9.geom_blank(data=pd.DataFrame(ts)) + p9.theme_void() + p9.theme(figure_size=figsize)).draw()\n",
    "    gs = GridSpec(2, 2)\n",
    "    ts_ax = fig.add_subplot(gs[0, 0:2])\n",
    "    acf_ax = fig.add_subplot(gs[1, 0])\n",
    "    pacf_ax = fig.add_subplot(gs[1, 1])\n",
    "\n",
    "    # Plot of the time series itself\n",
    "    if df_p_value is None:\n",
    "        df_p_value = sm.tsa.stattools.adfuller(ts)[1]\n",
    "    ts_plot = (\n",
    "        p9.ggplot(data=pd.DataFrame(ts), mapping=p9.aes(x='ts.index', y=f'{ts.name}'))\n",
    "        + p9.geom_line()\n",
    "        + p9.labs(\n",
    "            x='Time',\n",
    "            y='Monthly Visitors'\n",
    "        )\n",
    "        + p9.theme_538()\n",
    "        + p9.theme(axis_text_x=p9.element_text(rotation=90))\n",
    "    )\n",
    "    # A hack using a protected method is necessary to make plotnine work with matplotlib's subplot functionality\n",
    "    _ = ts_plot._draw_using_figure(figure=fig, axs=[ts_ax])\n",
    "    ts_ax.set_title(f'Time Series Analysis Plots for {ts.name}\\nDickey-Fuller $p$-value: {df_p_value:.5}')\n",
    "\n",
    "    # The other plots are created by statsmodels and fully compatible with matplotlib\n",
    "    sm.tsa.graphics.plot_acf(ts, ax=acf_ax, lags=lags)\n",
    "    sm.tsa.graphics.plot_pacf(ts, ax=pacf_ax, lags=lags)\n",
    "\n",
    "    plt.tight_layout()\n",
    "\n",
    "    fig.show()"
   ]
  },
  {
   "cell_type": "code",
   "execution_count": null,
   "metadata": {
    "pycharm": {
     "name": "#%%\n"
    }
   },
   "outputs": [],
   "source": [
    "plot_ts(ts_df['BIBE'])"
   ]
  },
  {
   "cell_type": "code",
   "execution_count": null,
   "metadata": {
    "pycharm": {
     "name": "#%%\n"
    }
   },
   "outputs": [],
   "source": [
    "# Differencing would appear to be in order\n",
    "plot_ts((ts_df['BIBE'] - ts_df['BIBE'].shift(1)).dropna())"
   ]
  },
  {
   "cell_type": "code",
   "execution_count": null,
   "metadata": {
    "pycharm": {
     "name": "#%%\n"
    }
   },
   "outputs": [],
   "source": [
    "# As would annual deseasoning\n",
    "plot_ts((ts_df['BIBE'] - ts_df['BIBE'].shift(12)).dropna())"
   ]
  },
  {
   "cell_type": "code",
   "execution_count": null,
   "metadata": {
    "pycharm": {
     "name": "#%%\n"
    }
   },
   "outputs": [],
   "source": [
    "deseasoned_ts = (ts_df['BIBE'] - ts_df['BIBE'].shift(12)).dropna()\n",
    "plot_ts((deseasoned_ts - deseasoned_ts.shift(1)).dropna())"
   ]
  },
  {
   "cell_type": "code",
   "execution_count": null,
   "metadata": {
    "pycharm": {
     "name": "#%%\n"
    }
   },
   "outputs": [],
   "source": [
    "ts = ts_df['BIBE'].dropna()\n",
    "test_cutoff = int(0.8 * len(ts))\n",
    "train_ts = ts[:test_cutoff]\n",
    "test_ts = ts[test_cutoff:]\n",
    "\n",
    "arima_model = AutoARIMA(m=12, max_order=8, trace=True)\n",
    "arima_model.fit(train_ts)"
   ]
  },
  {
   "cell_type": "code",
   "execution_count": null,
   "metadata": {
    "pycharm": {
     "name": "#%%\n"
    }
   },
   "outputs": [],
   "source": [
    "arima_model.summary().as_text()"
   ]
  },
  {
   "cell_type": "code",
   "execution_count": null,
   "metadata": {
    "pycharm": {
     "name": "#%%\n"
    }
   },
   "outputs": [],
   "source": [
    "def plot_forecast(train_ts, test_ts, forecast, forecast_ci, train_limit=None, figure_size=(12, 4)):\n",
    "    \"\"\"Plots a forecast against the training capta and a holdout test set.\n",
    "\n",
    "    Args:\n",
    "        train_ts (pd.Series): the time series used to train the model\n",
    "        test_ts (pd.Series): the holdout test portion of the time series\n",
    "        forecast (array-like): the forecasts produced by an ARIMA model\n",
    "        forecast_ci (array-like): the confidence interval for the forecasts\n",
    "            produced by an ARIMA model\n",
    "        train_limit (numeric): if present, the product of this number and the\n",
    "            length of the test set will determine the maximum number of points\n",
    "            in the training set to plot\n",
    "        figure_size (tuple): the figure size\n",
    "\n",
    "    Returns:\n",
    "        None\n",
    "    \"\"\"\n",
    "\n",
    "    # All series and forecasts should refer to the same phenomenon, and should\n",
    "    # thus have the same name\n",
    "    ts_name = train_ts.name\n",
    "    mae = mean_absolute_error(test_ts, forecast)\n",
    "    mape = mean_absolute_percentage_error(test_ts, forecast)\n",
    "\n",
    "    # Subsample the training set for plotting if so indicated\n",
    "    if train_limit is not None:\n",
    "        train_limit = int(np.ceil(train_limit * len(test_ts)))\n",
    "        # Ensure that there are sufficient capta to be plotted\n",
    "        if not 0 < train_limit <= len(train_ts):\n",
    "            raise ValueError('train_limit outside of acceptable bounds')\n",
    "        train_ts = train_ts[-train_limit:]\n",
    "\n",
    "    # Arrange all the capta into tidy objects for plotting - resetting all of\n",
    "    # the indexes is necessary since the test and forecast time ranges coincide\n",
    "    train_ts_df = pd.DataFrame(\n",
    "        {ts_name: train_ts, 'forecast': False, 'split': 'train'}\n",
    "    ).reset_index()\n",
    "    test_ts_df = pd.DataFrame(\n",
    "        {ts_name: test_ts, 'forecast': False, 'split': 'test'}\n",
    "    ).reset_index()\n",
    "    forecast_df = pd.DataFrame(\n",
    "        {\n",
    "            ts_name: forecast,\n",
    "            'forecast': True,\n",
    "            'split': 'forecast',\n",
    "            'lower_bound': forecast_ci[:, 0],\n",
    "            'upper_bound': forecast_ci[:, 1]\n",
    "        },\n",
    "        index=test_ts.index\n",
    "    ).reset_index()\n",
    "    plot_df = pd.concat(\n",
    "        [train_ts_df, test_ts_df, forecast_df],\n",
    "        ignore_index=True\n",
    "    )\n",
    "\n",
    "    # Filling NaNs is necessary so that plotnine doesn't drop the entire geom\n",
    "    plot_df['lower_bound'] = plot_df['lower_bound'].fillna(plot_df[ts_name])\n",
    "    plot_df['upper_bound'] = plot_df['upper_bound'].fillna(plot_df[ts_name])\n",
    "\n",
    "    # Solid plot of the true values, dashed line plot of the forecast, and\n",
    "    # ribbon plot of the forecase confidence interval\n",
    "    forecast_plot = (\n",
    "        p9.ggplot(\n",
    "            data=plot_df,\n",
    "            mapping=p9.aes(\n",
    "                x='dt_pk',\n",
    "                y=ts_name,\n",
    "                color='split',\n",
    "                linetype='forecast'\n",
    "            )\n",
    "        )\n",
    "        + p9.geom_line()\n",
    "        + p9.geom_ribbon(\n",
    "            mapping=p9.aes(x='dt_pk', ymin='lower_bound', ymax='upper_bound'),\n",
    "            fill='grey',\n",
    "            alpha=0.5,\n",
    "            inherit_aes=False\n",
    "        )\n",
    "        + p9.scale_color_brewer(type='qual', palette='Paired')\n",
    "        + p9.labs(\n",
    "            x='Time',\n",
    "            y='Monthly Visitors',\n",
    "            title=f'Forecast for {ts_name}\\nMAE = {mae:.5}, MAPE = {mape:.5}'\n",
    "        )\n",
    "        + p9.theme_538()\n",
    "        + p9.theme(\n",
    "            figure_size=figure_size,\n",
    "            axis_text_x=p9.element_text(rotation=90)\n",
    "        )\n",
    "    )\n",
    "    forecast_plot.draw();"
   ]
  },
  {
   "cell_type": "code",
   "execution_count": null,
   "metadata": {
    "pycharm": {
     "name": "#%%\n"
    }
   },
   "outputs": [],
   "source": [
    "forecast, forecast_ci = arima_model.predict(n_periods=len(test_ts), return_conf_int=True, alpha=0.05)\n",
    "plot_forecast(train_ts, test_ts, forecast, forecast_ci)"
   ]
  },
  {
   "cell_type": "markdown",
   "metadata": {
    "pycharm": {
     "name": "#%% md\n"
    }
   },
   "source": [
    "## Extend to Additional Parks\n",
    "- BLRI\n",
    "- BOWA"
   ]
  },
  {
   "cell_type": "code",
   "execution_count": null,
   "metadata": {
    "pycharm": {
     "name": "#%%\n"
    }
   },
   "outputs": [],
   "source": [
    "def plot_differenced_ts(ts, lags=None, diffs=0, df_p_value=None, figsize=(12, 8)):\n",
    "    \"\"\"Produce a collection of artifacts for evaluating a time series.\n",
    "    Adapted from https://towardsdatascience.com/multi-step-time-series-forecasting-with-arima-lightgbm-and-prophet-cc9e3f95dfb0#:~:text=ARIMA%20is%20one%20of%20the,p%2C%20d%2C%20and%20q.\n",
    "\n",
    "    Args:\n",
    "        ts (pd.Series): a time series\n",
    "        lags (int): a number of lags to be passed to the ACF and PACF plots, instead\n",
    "            of having this inferred automatically\n",
    "        diffs (int): the number of times that differencing was applied before the DF test was significant\n",
    "        df_p_value (float): the pre-computed result of a Dickey-Fuller test, if None then this will be calculated\n",
    "        figsize (tuple): the figure size\n",
    "\n",
    "    Returns:\n",
    "        None\n",
    "    \"\"\"\n",
    "\n",
    "    # Coerce input to series if not already\n",
    "    if not isinstance(ts, pd.Series):\n",
    "        ts = pd.Series(ts)\n",
    "\n",
    "    # Create subpanels for subplots by creating a gridspec on top of an empty plotnine\n",
    "    # figure (junk data is needed for backend \"copy\" reasons)\n",
    "    fig = (p9.ggplot() + p9.geom_blank(data=pd.DataFrame(ts)) + p9.theme_void() + p9.theme(figure_size=figsize)).draw()\n",
    "    gs = GridSpec(2, 2)\n",
    "    ts_ax = fig.add_subplot(gs[0, 0:2])\n",
    "    acf_ax = fig.add_subplot(gs[1, 0])\n",
    "    pacf_ax = fig.add_subplot(gs[1, 1])\n",
    "\n",
    "    # Plot of the time series itself\n",
    "    if df_p_value is None:\n",
    "        df_p_value = sm.tsa.stattools.adfuller(ts)[1]\n",
    "    ts_plot = (\n",
    "        p9.ggplot(data=pd.DataFrame(ts), mapping=p9.aes(x='ts.index', y=f'{ts.name}'))\n",
    "        + p9.geom_line()\n",
    "        + p9.labs(\n",
    "            x='Time',\n",
    "            y='Monthly Visitors'\n",
    "        )\n",
    "        + p9.theme_538()\n",
    "        + p9.theme(axis_text_x=p9.element_text(rotation=90))\n",
    "    )\n",
    "    # A hack using a protected method is necessary to make plotnine work with matplotlib's subplot functionality\n",
    "    _ = ts_plot._draw_using_figure(figure=fig, axs=[ts_ax])\n",
    "    ts_ax.set_title(f'Time Series Analysis Plots for Deseasoned {ordinal(diffs)}-Order Differenced {ts.name}\\nDickey-Fuller $p$-value: {df_p_value:.5}')\n",
    "\n",
    "    # The other plots are created by statsmodels and fully compatible with matplotlib\n",
    "    sm.tsa.graphics.plot_acf(ts, ax=acf_ax, lags=lags)\n",
    "    sm.tsa.graphics.plot_pacf(ts, ax=pacf_ax, lags=lags)\n",
    "\n",
    "    plt.tight_layout()\n",
    "\n",
    "    fig.show()"
   ]
  },
  {
   "cell_type": "code",
   "execution_count": null,
   "metadata": {
    "pycharm": {
     "name": "#%%\n"
    }
   },
   "outputs": [],
   "source": [
    "parks = ['BLRI', 'BOWA']\n",
    "\n",
    "for park in parks:\n",
    "    ts = ts_df[park]\n",
    "    test_cutoff = int(0.8 * len(ts))\n",
    "    train_ts = ts[:test_cutoff]\n",
    "    test_ts = ts[test_cutoff:]\n",
    "    # NB: offload these to configs\n",
    "    alpha = 0.05\n",
    "    max_diffs = 12\n",
    "    diffs = 0\n",
    "    # Get rid of annual seasonality\n",
    "    diff_ts = (train_ts - train_ts.shift(12)).dropna()\n",
    "    df_p_value = sm.tsa.stattools.adfuller(diff_ts)[1]\n",
    "    while alpha < df_p_value and diffs < max_diffs:\n",
    "        diff_ts = (diff_ts - diff_ts.shift(1)).dropna()\n",
    "        df_p_value = sm.tsa.stattools.adfuller(diff_ts)[1]\n",
    "        diffs += 1\n",
    "    plot_differenced_ts(diff_ts, diffs=diffs, df_p_value=df_p_value)\n",
    "\n",
    "    arima_model = AutoARIMA(m=12, n_jobs=-1, max_order=8)\n",
    "    arima_model.fit(train_ts)\n",
    "    print(arima_model.summary())\n",
    "\n",
    "    forecast, forecast_ci = arima_model.predict(n_periods=len(test_ts), return_conf_int=True, alpha=0.05)\n",
    "    plot_forecast(train_ts, test_ts, forecast, forecast_ci)"
   ]
  },
  {
   "cell_type": "code",
   "execution_count": null,
   "metadata": {
    "pycharm": {
     "name": "#%%\n"
    }
   },
   "outputs": [],
   "source": []
  }
 ],
 "metadata": {
  "kernelspec": {
   "display_name": "Python 3",
   "language": "python",
   "name": "python3"
  },
  "language_info": {
   "codemirror_mode": {
    "name": "ipython",
    "version": 2
   },
   "file_extension": ".py",
   "mimetype": "text/x-python",
   "name": "python",
   "nbconvert_exporter": "python",
   "pygments_lexer": "ipython2",
   "version": "2.7.6"
  }
 },
 "nbformat": 4,
 "nbformat_minor": 0
}